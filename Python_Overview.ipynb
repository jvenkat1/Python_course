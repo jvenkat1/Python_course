{
 "cells": [
  {
   "cell_type": "markdown",
   "metadata": {},
   "source": [
    "# Python Overview"
   ]
  },
  {
   "cell_type": "markdown",
   "metadata": {},
   "source": [
    "Python does not look like a lot of other languages. It doesn't use braces or semicolons, line endings and indentation are meaningful. In Python, everything is an object. "
   ]
  },
  {
   "cell_type": "markdown",
   "metadata": {},
   "source": [
    "Python \n",
    "- Is interpreted\n",
    "- Has dynamic semantics. \n",
    "- Supports modules and packages\n",
    "- Focuses on readability"
   ]
  },
  {
   "cell_type": "markdown",
   "metadata": {},
   "source": [
    "# Python Overview – Hello World!"
   ]
  },
  {
   "cell_type": "code",
   "execution_count": 44,
   "metadata": {},
   "outputs": [
    {
     "data": {
      "text/plain": [
       "4"
      ]
     },
     "execution_count": 44,
     "metadata": {},
     "output_type": "execute_result"
    }
   ],
   "source": [
    "2 + 2 # expression evaluated, result printed"
   ]
  },
  {
   "cell_type": "code",
   "execution_count": 4,
   "metadata": {},
   "outputs": [
    {
     "name": "stdout",
     "output_type": "stream",
     "text": [
      "Hello, World.\n"
     ]
    }
   ],
   "source": [
    "print('Hello, World.')"
   ]
  },
  {
   "cell_type": "code",
   "execution_count": 43,
   "metadata": {},
   "outputs": [
    {
     "data": {
      "text/plain": [
       "'hello, world!'"
      ]
     },
     "execution_count": 43,
     "metadata": {},
     "output_type": "execute_result"
    }
   ],
   "source": [
    "\"hello, \" \\\n",
    "\"world!\"  # \\ for Line continuation"
   ]
  },
  {
   "cell_type": "markdown",
   "metadata": {},
   "source": [
    "# Python Anatomy"
   ]
  },
  {
   "cell_type": "markdown",
   "metadata": {},
   "source": [
    "Consider the python script below which prints the python version"
   ]
  },
  {
   "cell_type": "code",
   "execution_count": 47,
   "metadata": {},
   "outputs": [
    {
     "name": "stdout",
     "output_type": "stream",
     "text": [
      "This is python version 3.7.1\n"
     ]
    }
   ],
   "source": [
    "#!/usr/bin/env python3\n",
    "\n",
    "import platform \n",
    "print('This is python version {}'.format(platform.python_version()))"
   ]
  },
  {
   "attachments": {},
   "cell_type": "markdown",
   "metadata": {},
   "source": [
    "Comments are introduced by the hash mark or the pound sign, and the first comment is a special case of a comment. It's called a shebang line or sometimes hashbang.  The shebang line is a common pattern for Unix based systems. Essentially, the `#` and the `!` must be the first two bytes in the file. It allows a script to be invoked from the command line. Alternately, we could use the absolute path to the Python interpreter."
   ]
  },
  {
   "cell_type": "code",
   "execution_count": 48,
   "metadata": {},
   "outputs": [],
   "source": [
    "#!/usr/bin/env python3"
   ]
  },
  {
   "cell_type": "markdown",
   "metadata": {},
   "source": [
    "Following the comment, the first line in the script is an import statement. This tells the Python interpreter to import a module from the library. The module may contain any combination of classes, functions, or other Python objects. In this case, it's importing the platform module, which is used to display the Python version when we run the script. There are standard library modules or you may define your own"
   ]
  },
  {
   "cell_type": "code",
   "execution_count": 49,
   "metadata": {},
   "outputs": [],
   "source": [
    "import platform"
   ]
  },
  {
   "cell_type": "markdown",
   "metadata": {},
   "source": [
    "After the import statements, you find the rest of the script. In this case, it's this one line which is a call to the print function. In versions of Python before version 3.0, print was a statement. In Python 3.0, print is now a function, and it always requires parentheses. Inside the parentheses is a string, and you notice that because everything is an object in Python, we're actually calling a function on this string object, the format function, and that format's the text inside these curly braces"
   ]
  },
  {
   "cell_type": "code",
   "execution_count": 52,
   "metadata": {},
   "outputs": [
    {
     "name": "stdout",
     "output_type": "stream",
     "text": [
      "This is python version 3.7.1\n"
     ]
    }
   ],
   "source": [
    "print('This is python version {}'.format(platform.python_version())) "
   ]
  },
  {
   "cell_type": "markdown",
   "metadata": {},
   "source": [
    "# Indentation and Comments"
   ]
  },
  {
   "cell_type": "markdown",
   "metadata": {},
   "source": [
    "Whitespaces are important in python. Block is delimited by indentation – no begin or end brackets. \n",
    "\n",
    "The two functions `main` and `message` in the code below, they have blocks which are associated with them and that's the code that comprises the body of the function. And you notice that they're indented under the definition of the function. The main function has a function call to the message function, and the message function has a function call to the print function. And you can tell that these are associated because of their indentation.\n",
    "\n",
    "Likewise, the conditional statement has indented block of code. \n",
    "\n",
    "if, while, def, except etc have `:` at the end. The `:` must follow with an indent on next line"
   ]
  },
  {
   "cell_type": "code",
   "execution_count": 63,
   "metadata": {},
   "outputs": [
    {
     "name": "stdout",
     "output_type": "stream",
     "text": [
      "First print\n",
      "Second print\n",
      "Third print\n",
      "Message print\n",
      "Last print\n"
     ]
    }
   ],
   "source": [
    "def main():\n",
    "    print('Third print')\n",
    "    message()\n",
    "    print('Last print')\n",
    "    \n",
    "def message():\n",
    "    print('Message print')\n",
    "\n",
    "print('First print')\n",
    "\n",
    "if True:\n",
    "    print(\"Second print\")\n",
    "\n",
    "main()"
   ]
  },
  {
   "cell_type": "markdown",
   "metadata": {},
   "source": [
    "Comments in Python are introduced by a pound sign and ends at end of line. There are no multi-line comments in python"
   ]
  },
  {
   "cell_type": "code",
   "execution_count": 82,
   "metadata": {},
   "outputs": [
    {
     "ename": "SyntaxError",
     "evalue": "invalid syntax (<ipython-input-82-3386331addf3>, line 14)",
     "output_type": "error",
     "traceback": [
      "\u001b[1;36m  File \u001b[1;32m\"<ipython-input-82-3386331addf3>\"\u001b[1;36m, line \u001b[1;32m14\u001b[0m\n\u001b[1;33m    else:\u001b[0m\n\u001b[1;37m       ^\u001b[0m\n\u001b[1;31mSyntaxError\u001b[0m\u001b[1;31m:\u001b[0m invalid syntax\n"
     ]
    }
   ],
   "source": [
    "# Fix me: \n",
    "# Bug 1: SyntaxError: invalid syntax\n",
    "# Bug 2: IndentationError: expected an indented block\n",
    "# Bug 3: IndentationError: unexpected indent\n",
    "\n",
    "#!/usr/bin/env python3\n",
    "x = 50\n",
    "y = 4\n",
    "\n",
    "if x < y:\n",
    "    print('x < y: ') \n",
    "    \n",
    "print('x is {} and y is {}'.format(x, y))\n",
    "else: \n",
    " print('x >= y: ')\n",
    "    print('x is {} and y is {}'.format(x, y))   \n",
    "    \n",
    "print('Done')\n",
    "\n",
    "# Expected output: \n",
    "# Input_1: x=4, y =50 \n",
    "# x < y: \n",
    "# x is 4 and y is 50\n",
    "# Done\n",
    "# Input_2: x=50, y =4 \n",
    "# x >= y: \n",
    "# x is 50 and y is 4\n",
    "# Done"
   ]
  },
  {
   "cell_type": "markdown",
   "metadata": {},
   "source": [
    "# Using print()"
   ]
  },
  {
   "cell_type": "markdown",
   "metadata": {},
   "source": [
    "The Python print function is simple and powerful. In the code below we have a print function which prints the literal string ``Hello World`` along with value of variable x. The ``{}`` braces is a placeholder for the variable `x` and we use the format method to print the variable. The format method is a method of the string object. "
   ]
  },
  {
   "cell_type": "code",
   "execution_count": 94,
   "metadata": {},
   "outputs": [
    {
     "name": "stdout",
     "output_type": "stream",
     "text": [
      "\"Hello World 42\"\"\n"
     ]
    }
   ],
   "source": [
    "x = 42\n",
    "\n",
    "print('\"Hello World {}\"\"'.format(x))"
   ]
  },
  {
   "cell_type": "markdown",
   "metadata": {},
   "source": [
    "Beginning with Python 3.6, we can also use an `F` string which is implemented using the format method to print the variable x. "
   ]
  },
  {
   "cell_type": "code",
   "execution_count": 95,
   "metadata": {},
   "outputs": [
    {
     "name": "stdout",
     "output_type": "stream",
     "text": [
      "'Hello World 42 '\n"
     ]
    }
   ],
   "source": [
    "x = 42\n",
    "\n",
    "print(f\"'Hello World {x} '\")"
   ]
  },
  {
   "cell_type": "markdown",
   "metadata": {},
   "source": [
    "## Scope"
   ]
  },
  {
   "cell_type": "markdown",
   "metadata": {},
   "source": [
    "Blocks do not define scope in Python. Consider the example below. The variable `z` is said to have file scope. Once defined, `z` is visible to all parts of the code contained in the same file. Variables with file scope can even be accessed within functions."
   ]
  },
  {
   "cell_type": "code",
   "execution_count": 85,
   "metadata": {},
   "outputs": [
    {
     "name": "stdout",
     "output_type": "stream",
     "text": [
      "x < y: \n",
      "x is 4 and y is 50\n",
      "Value of z: 114\n"
     ]
    }
   ],
   "source": [
    "#!/usr/bin/env python3\n",
    "x = 4\n",
    "y = 50\n",
    "\n",
    "if x < y:\n",
    "    z = 114\n",
    "    print('x < y: ')\n",
    "    print('x is {} and y is {}'.format(x, y))\n",
    " \n",
    "print(f'Value of z: {z}')"
   ]
  },
  {
   "cell_type": "markdown",
   "metadata": {},
   "source": [
    "A valuable aspect of functions is that the function’s input argument variables, and any variables defined within the function, cannot be “seen” nor accessed outside of the function. That is, these variables are said to have a restricted/local scope."
   ]
  },
  {
   "cell_type": "markdown",
   "metadata": {},
   "source": [
    "# Variables"
   ]
  },
  {
   "cell_type": "markdown",
   "metadata": {},
   "source": [
    "A variable is a containter to store certain values. While the program runs variables are accessed and sometimes changed, i.e. a new value will be assigned to a variable. Every variable must have a unique data type. Declaring a variable means binding a unique data type to it. Defining a variable means to have value assigned to it. \n",
    "\n",
    "In python there is no declaration of variables required. Value and type of variable may change during execution of a program. You can assign an integer value to a variable, use it as an integer for a while and then assign a string to the same variable."
   ]
  },
  {
   "cell_type": "code",
   "execution_count": 96,
   "metadata": {},
   "outputs": [],
   "source": [
    "# python assignment = definition + declaration\n",
    "i = 42 # data type is implicitly set to integer \n",
    "i = 42 + 0.11 # data type is changed to float \n",
    "i = \"forty\" # and now it will be a string"
   ]
  },
  {
   "cell_type": "markdown",
   "metadata": {},
   "source": [
    "Python variables are references to objects. But the actual data is contained in the objects. Since objects can be of arbitrary types, variables cannot have types associated with them. "
   ]
  },
  {
   "cell_type": "code",
   "execution_count": 97,
   "metadata": {},
   "outputs": [],
   "source": [
    "x = 42\n",
    "y = x # what happens here? \n",
    "y = 72 # what happens now? "
   ]
  },
  {
   "cell_type": "code",
   "execution_count": 98,
   "metadata": {},
   "outputs": [
    {
     "name": "stdout",
     "output_type": "stream",
     "text": [
      "[1, 3]\n"
     ]
    }
   ],
   "source": [
    "a = [1, 2, 3] \n",
    "b = a \n",
    "b.remove(2)\n",
    "print(a) # what happens to 'a' here? "
   ]
  },
  {
   "cell_type": "code",
   "execution_count": 99,
   "metadata": {},
   "outputs": [
    {
     "name": "stdout",
     "output_type": "stream",
     "text": [
      "1\n",
      "2\n"
     ]
    }
   ],
   "source": [
    "# what happens here? \n",
    "a = 1\n",
    "b = a\n",
    "b += 1\n",
    "print(a) \n",
    "print(b) "
   ]
  },
  {
   "cell_type": "markdown",
   "metadata": {},
   "source": [
    "### Exercise1: Read command line args from user and print them.\n",
    "### Ask user to enter his name as user input and print name. "
   ]
  },
  {
   "cell_type": "code",
   "execution_count": 58,
   "metadata": {},
   "outputs": [
    {
     "ename": "SyntaxError",
     "evalue": "invalid syntax (<ipython-input-58-749d691b2751>, line 4)",
     "output_type": "error",
     "traceback": [
      "\u001b[1;36m  File \u001b[1;32m\"<ipython-input-58-749d691b2751>\"\u001b[1;36m, line \u001b[1;32m4\u001b[0m\n\u001b[1;33m    name = # Edit me: read input here\u001b[0m\n\u001b[1;37m                                     ^\u001b[0m\n\u001b[1;31mSyntaxError\u001b[0m\u001b[1;31m:\u001b[0m invalid syntax\n"
     ]
    }
   ],
   "source": [
    "#!/usr/bin/env python3\n",
    "\n",
    "# user input\n",
    "name = # Edit me: read input here\n",
    "print(\"Your name is :\" + name)"
   ]
  },
  {
   "cell_type": "markdown",
   "metadata": {},
   "source": [
    "###  Exercise 2: Import dateTime module and print current time"
   ]
  },
  {
   "cell_type": "code",
   "execution_count": 42,
   "metadata": {},
   "outputs": [
    {
     "ename": "SyntaxError",
     "evalue": "invalid syntax (<ipython-input-42-fbc52a9914b0>, line 6)",
     "output_type": "error",
     "traceback": [
      "\u001b[1;36m  File \u001b[1;32m\"<ipython-input-42-fbc52a9914b0>\"\u001b[1;36m, line \u001b[1;32m6\u001b[0m\n\u001b[1;33m    oTime = # Edit me: read date and time here.\u001b[0m\n\u001b[1;37m                                                ^\u001b[0m\n\u001b[1;31mSyntaxError\u001b[0m\u001b[1;31m:\u001b[0m invalid syntax\n"
     ]
    }
   ],
   "source": [
    "#!/usr/bin/env python3\n",
    "# Copyright 2009-2017 BHG http://bw.org/\n",
    "\n",
    "# add import statement here\n",
    "\n",
    "oTime = # Edit me: read date and time here. \n",
    "print(\" Time is: {}\".format(#Edit me: add current time here))"
   ]
  },
  {
   "cell_type": "markdown",
   "metadata": {},
   "source": [
    "### Exercise 3: Print (‘Data Science’) after (‘Python Intro’) and print(‘Hello World!’) before (‘Python Intro’) "
   ]
  },
  {
   "cell_type": "code",
   "execution_count": 87,
   "metadata": {},
   "outputs": [
    {
     "name": "stdout",
     "output_type": "stream",
     "text": [
      "Python Intro\n",
      "You are an expert now!\n",
      "Nvidia rocks!\n"
     ]
    }
   ],
   "source": [
    "#!/usr/bin/env python3\n",
    "def main():\n",
    "    # do not add prints in this function\n",
    "    message()\n",
    "    \n",
    "def message():\n",
    "    # Note: do not add a print here before print('Python Intro')\n",
    "    print('Python Intro')\n",
    "    if True:\n",
    "        print('You are an expert now!')\n",
    "\n",
    "if __name__ == '__main__': main()\n",
    "print(f'Nvidia rocks!')\n",
    "\n",
    "# Expected Output: \n",
    "# Hello World!\n",
    "# Python Intro\n",
    "# Data Science\n",
    "# You are an expert now!\n",
    "# Nvidia rocks!"
   ]
  },
  {
   "cell_type": "markdown",
   "metadata": {},
   "source": [
    "### Exercise 4: What is scope of : my_func, in_arg1, in_arg2, func_block, if_block, file_var, comp_var,it_var, for_block, while_block ?"
   ]
  },
  {
   "cell_type": "code",
   "execution_count": 92,
   "metadata": {},
   "outputs": [],
   "source": [
    "# this demonstrates scope of variables in different contexts\n",
    "# what is scope of? : my_func, in_arg1, in_arg2, func_block, if_block, file_var, comp_var,it_var, for_block, while_block\n",
    "\n",
    "def my_func(in_arg1, in_arg2=\"cat\"):\n",
    "    func_block = 1\n",
    "    return None\n",
    "\n",
    "file_var = [comp_var**2 for comp_var in [-1, -2]]\n",
    "\n",
    "if True:\n",
    "    if_block = 2\n",
    "else:\n",
    "    if_block = 3\n",
    "\n",
    "for it_var in [1, 2, 3]:\n",
    "    for_block = 1\n",
    "\n",
    "while True:\n",
    "    while_block = None\n",
    "    break"
   ]
  }
 ],
 "metadata": {
  "kernelspec": {
   "display_name": "Python 3",
   "language": "python",
   "name": "python3"
  },
  "language_info": {
   "codemirror_mode": {
    "name": "ipython",
    "version": 3
   },
   "file_extension": ".py",
   "mimetype": "text/x-python",
   "name": "python",
   "nbconvert_exporter": "python",
   "pygments_lexer": "ipython3",
   "version": "3.7.1"
  }
 },
 "nbformat": 4,
 "nbformat_minor": 2
}
